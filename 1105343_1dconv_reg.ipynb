{
  "nbformat": 4,
  "nbformat_minor": 0,
  "metadata": {
    "colab": {
      "name": "1105343_1dconv_reg.ipynb",
      "provenance": [],
      "collapsed_sections": [],
      "toc_visible": true,
      "authorship_tag": "ABX9TyOTfPE+6zHZ9Y1NQwkvVEmW",
      "include_colab_link": true
    },
    "kernelspec": {
      "name": "python3",
      "display_name": "Python 3"
    },
    "accelerator": "GPU"
  },
  "cells": [
    {
      "cell_type": "markdown",
      "metadata": {
        "id": "view-in-github",
        "colab_type": "text"
      },
      "source": [
        "<a href=\"https://colab.research.google.com/github/aytha-rajesh/lakehead/blob/master/1105343_1dconv_reg.ipynb\" target=\"_parent\"><img src=\"https://colab.research.google.com/assets/colab-badge.svg\" alt=\"Open In Colab\"/></a>"
      ]
    },
    {
      "cell_type": "code",
      "metadata": {
        "id": "Z3lmWCjrS286",
        "colab_type": "code",
        "colab": {}
      },
      "source": [
        ""
      ],
      "execution_count": 0,
      "outputs": []
    },
    {
      "cell_type": "code",
      "metadata": {
        "id": "HN8FzpxsTLC5",
        "colab_type": "code",
        "outputId": "46f986c0-d1bb-4317-d22b-0869310dadad",
        "colab": {
          "base_uri": "https://localhost:8080/",
          "height": 122
        }
      },
      "source": [
        "from google.colab import drive\n",
        "drive.mount('/content/drive')"
      ],
      "execution_count": 0,
      "outputs": [
        {
          "output_type": "stream",
          "text": [
            "Go to this URL in a browser: https://accounts.google.com/o/oauth2/auth?client_id=947318989803-6bn6qk8qdgf4n4g3pfee6491hc0brc4i.apps.googleusercontent.com&redirect_uri=urn%3aietf%3awg%3aoauth%3a2.0%3aoob&response_type=code&scope=email%20https%3a%2f%2fwww.googleapis.com%2fauth%2fdocs.test%20https%3a%2f%2fwww.googleapis.com%2fauth%2fdrive%20https%3a%2f%2fwww.googleapis.com%2fauth%2fdrive.photos.readonly%20https%3a%2f%2fwww.googleapis.com%2fauth%2fpeopleapi.readonly\n",
            "\n",
            "Enter your authorization code:\n",
            "··········\n",
            "Mounted at /content/drive\n"
          ],
          "name": "stdout"
        }
      ]
    },
    {
      "cell_type": "code",
      "metadata": {
        "id": "Q6Q-V3vZTfCt",
        "colab_type": "code",
        "colab": {}
      },
      "source": [
        "#import pandas lib to read our dataset\n",
        "import pandas as pd\n",
        "\n",
        "#Get train/test split package from sklearn for preparing our dataset to train and test model with\n",
        "from sklearn.model_selection import train_test_split\n",
        "\n",
        "#import the numpy library to work with and manipulate the data\n",
        "import numpy as np\n",
        "import matplotlib.pyplot as plt "
      ],
      "execution_count": 0,
      "outputs": []
    },
    {
      "cell_type": "markdown",
      "metadata": {
        "id": "09-TDcLnTqnf",
        "colab_type": "text"
      },
      "source": [
        "Loading the Dataset\n",
        "and printing first 10 rows\n"
      ]
    },
    {
      "cell_type": "code",
      "metadata": {
        "id": "KSZCLes2TyAY",
        "colab_type": "code",
        "outputId": "c7d0b6cc-abea-4b7e-f730-3f268efbf65a",
        "colab": {
          "base_uri": "https://localhost:8080/",
          "height": 396
        }
      },
      "source": [
        "dataset=pd.read_csv('/content/housing.csv')\n",
        "dataset=dataset.dropna()\n",
        "print(\"here are the first ten rows of the dataset:\")\n",
        "dataset.head(10)\n"
      ],
      "execution_count": 0,
      "outputs": [
        {
          "output_type": "stream",
          "text": [
            "here are the first ten rows of the dataset:\n"
          ],
          "name": "stdout"
        },
        {
          "output_type": "execute_result",
          "data": {
            "text/html": [
              "<div>\n",
              "<style scoped>\n",
              "    .dataframe tbody tr th:only-of-type {\n",
              "        vertical-align: middle;\n",
              "    }\n",
              "\n",
              "    .dataframe tbody tr th {\n",
              "        vertical-align: top;\n",
              "    }\n",
              "\n",
              "    .dataframe thead th {\n",
              "        text-align: right;\n",
              "    }\n",
              "</style>\n",
              "<table border=\"1\" class=\"dataframe\">\n",
              "  <thead>\n",
              "    <tr style=\"text-align: right;\">\n",
              "      <th></th>\n",
              "      <th>longitude</th>\n",
              "      <th>latitude</th>\n",
              "      <th>housing_median_age</th>\n",
              "      <th>total_rooms</th>\n",
              "      <th>total_bedrooms</th>\n",
              "      <th>population</th>\n",
              "      <th>households</th>\n",
              "      <th>median_income</th>\n",
              "      <th>median_house_value</th>\n",
              "      <th>ocean_proximity</th>\n",
              "    </tr>\n",
              "  </thead>\n",
              "  <tbody>\n",
              "    <tr>\n",
              "      <th>0</th>\n",
              "      <td>-122.23</td>\n",
              "      <td>37.88</td>\n",
              "      <td>41</td>\n",
              "      <td>880</td>\n",
              "      <td>129.0</td>\n",
              "      <td>322</td>\n",
              "      <td>126</td>\n",
              "      <td>8.3252</td>\n",
              "      <td>452600</td>\n",
              "      <td>NEAR BAY</td>\n",
              "    </tr>\n",
              "    <tr>\n",
              "      <th>1</th>\n",
              "      <td>-122.22</td>\n",
              "      <td>37.86</td>\n",
              "      <td>21</td>\n",
              "      <td>7099</td>\n",
              "      <td>1106.0</td>\n",
              "      <td>2401</td>\n",
              "      <td>1138</td>\n",
              "      <td>8.3014</td>\n",
              "      <td>358500</td>\n",
              "      <td>NEAR BAY</td>\n",
              "    </tr>\n",
              "    <tr>\n",
              "      <th>2</th>\n",
              "      <td>-122.24</td>\n",
              "      <td>37.85</td>\n",
              "      <td>52</td>\n",
              "      <td>1467</td>\n",
              "      <td>190.0</td>\n",
              "      <td>496</td>\n",
              "      <td>177</td>\n",
              "      <td>7.2574</td>\n",
              "      <td>352100</td>\n",
              "      <td>NEAR BAY</td>\n",
              "    </tr>\n",
              "    <tr>\n",
              "      <th>3</th>\n",
              "      <td>-122.25</td>\n",
              "      <td>37.85</td>\n",
              "      <td>52</td>\n",
              "      <td>1274</td>\n",
              "      <td>235.0</td>\n",
              "      <td>558</td>\n",
              "      <td>219</td>\n",
              "      <td>5.6431</td>\n",
              "      <td>341300</td>\n",
              "      <td>NEAR BAY</td>\n",
              "    </tr>\n",
              "    <tr>\n",
              "      <th>4</th>\n",
              "      <td>-122.25</td>\n",
              "      <td>37.85</td>\n",
              "      <td>52</td>\n",
              "      <td>1627</td>\n",
              "      <td>280.0</td>\n",
              "      <td>565</td>\n",
              "      <td>259</td>\n",
              "      <td>3.8462</td>\n",
              "      <td>342200</td>\n",
              "      <td>NEAR BAY</td>\n",
              "    </tr>\n",
              "    <tr>\n",
              "      <th>5</th>\n",
              "      <td>-122.25</td>\n",
              "      <td>37.85</td>\n",
              "      <td>52</td>\n",
              "      <td>919</td>\n",
              "      <td>213.0</td>\n",
              "      <td>413</td>\n",
              "      <td>193</td>\n",
              "      <td>4.0368</td>\n",
              "      <td>269700</td>\n",
              "      <td>NEAR BAY</td>\n",
              "    </tr>\n",
              "    <tr>\n",
              "      <th>6</th>\n",
              "      <td>-122.25</td>\n",
              "      <td>37.84</td>\n",
              "      <td>52</td>\n",
              "      <td>2535</td>\n",
              "      <td>489.0</td>\n",
              "      <td>1094</td>\n",
              "      <td>514</td>\n",
              "      <td>3.6591</td>\n",
              "      <td>299200</td>\n",
              "      <td>NEAR BAY</td>\n",
              "    </tr>\n",
              "    <tr>\n",
              "      <th>7</th>\n",
              "      <td>-122.25</td>\n",
              "      <td>37.84</td>\n",
              "      <td>52</td>\n",
              "      <td>3104</td>\n",
              "      <td>687.0</td>\n",
              "      <td>1157</td>\n",
              "      <td>647</td>\n",
              "      <td>3.1200</td>\n",
              "      <td>241400</td>\n",
              "      <td>NEAR BAY</td>\n",
              "    </tr>\n",
              "    <tr>\n",
              "      <th>8</th>\n",
              "      <td>-122.26</td>\n",
              "      <td>37.84</td>\n",
              "      <td>42</td>\n",
              "      <td>2555</td>\n",
              "      <td>665.0</td>\n",
              "      <td>1206</td>\n",
              "      <td>595</td>\n",
              "      <td>2.0804</td>\n",
              "      <td>226700</td>\n",
              "      <td>NEAR BAY</td>\n",
              "    </tr>\n",
              "    <tr>\n",
              "      <th>9</th>\n",
              "      <td>-122.25</td>\n",
              "      <td>37.84</td>\n",
              "      <td>52</td>\n",
              "      <td>3549</td>\n",
              "      <td>707.0</td>\n",
              "      <td>1551</td>\n",
              "      <td>714</td>\n",
              "      <td>3.6912</td>\n",
              "      <td>261100</td>\n",
              "      <td>NEAR BAY</td>\n",
              "    </tr>\n",
              "  </tbody>\n",
              "</table>\n",
              "</div>"
            ],
            "text/plain": [
              "   longitude  latitude  ...  median_house_value  ocean_proximity\n",
              "0    -122.23     37.88  ...              452600         NEAR BAY\n",
              "1    -122.22     37.86  ...              358500         NEAR BAY\n",
              "2    -122.24     37.85  ...              352100         NEAR BAY\n",
              "3    -122.25     37.85  ...              341300         NEAR BAY\n",
              "4    -122.25     37.85  ...              342200         NEAR BAY\n",
              "5    -122.25     37.85  ...              269700         NEAR BAY\n",
              "6    -122.25     37.84  ...              299200         NEAR BAY\n",
              "7    -122.25     37.84  ...              241400         NEAR BAY\n",
              "8    -122.26     37.84  ...              226700         NEAR BAY\n",
              "9    -122.25     37.84  ...              261100         NEAR BAY\n",
              "\n",
              "[10 rows x 10 columns]"
            ]
          },
          "metadata": {
            "tags": []
          },
          "execution_count": 3
        }
      ]
    },
    {
      "cell_type": "markdown",
      "metadata": {
        "id": "9G0_79SSUjsZ",
        "colab_type": "text"
      },
      "source": [
        "Plotting the features of dataset\n"
      ]
    },
    {
      "cell_type": "code",
      "metadata": {
        "id": "Yo2GS8CxUnz6",
        "colab_type": "code",
        "outputId": "b33856f3-65cb-446a-e845-f1eb10996a5a",
        "colab": {
          "base_uri": "https://localhost:8080/",
          "height": 433
        }
      },
      "source": [
        "plt.style.use('ggplot') \n",
        "dataset.plot(subplots=True)\n"
      ],
      "execution_count": 0,
      "outputs": [
        {
          "output_type": "execute_result",
          "data": {
            "text/plain": [
              "array([<matplotlib.axes._subplots.AxesSubplot object at 0x7f06914dc908>,\n",
              "       <matplotlib.axes._subplots.AxesSubplot object at 0x7f06914cbc50>,\n",
              "       <matplotlib.axes._subplots.AxesSubplot object at 0x7f06914930f0>,\n",
              "       <matplotlib.axes._subplots.AxesSubplot object at 0x7f0691441550>,\n",
              "       <matplotlib.axes._subplots.AxesSubplot object at 0x7f06913f29b0>,\n",
              "       <matplotlib.axes._subplots.AxesSubplot object at 0x7f06913a6e10>,\n",
              "       <matplotlib.axes._subplots.AxesSubplot object at 0x7f06913622b0>,\n",
              "       <matplotlib.axes._subplots.AxesSubplot object at 0x7f0691394748>,\n",
              "       <matplotlib.axes._subplots.AxesSubplot object at 0x7f0691394780>],\n",
              "      dtype=object)"
            ]
          },
          "metadata": {
            "tags": []
          },
          "execution_count": 4
        },
        {
          "output_type": "display_data",
          "data": {
            "image/png": "[encoded data removed]",
            "text/plain": [
              "<Figure size 432x288 with 9 Axes>"
            ]
          },
          "metadata": {
            "tags": []
          }
        }
      ]
    },
    {
      "cell_type": "markdown",
      "metadata": {
        "id": "5GvpOrCNZNv7",
        "colab_type": "text"
      },
      "source": [
        "Splitting Dataset into input X and output Y"
      ]
    },
    {
      "cell_type": "code",
      "metadata": {
        "id": "xGGnYFnNZUiU",
        "colab_type": "code",
        "colab": {}
      },
      "source": [
        "#we will predict the \"median_house_value\" col using rest of the columns\n",
        "y=dataset['median_house_value']\n",
        "\n",
        "x=dataset.loc[:,'longitude':'median_income']"
      ],
      "execution_count": 0,
      "outputs": []
    },
    {
      "cell_type": "markdown",
      "metadata": {
        "id": "s8NVAol4ZjCz",
        "colab_type": "text"
      },
      "source": [
        "Splitting Dataset into tarining and testing in 70:30 portion"
      ]
    },
    {
      "cell_type": "code",
      "metadata": {
        "id": "l3IhLkQgZxiz",
        "colab_type": "code",
        "colab": {}
      },
      "source": [
        "#split dataset so 70% will be train set and 30% will be test set\n",
        "x_train, x_test, y_train, y_test= train_test_split(x,y,test_size=0.3)\n",
        "#convert the dataset to numpy arrays to work with pytorch model\n",
        "x_train_np=x_train.to_numpy()\n",
        "y_train_np=y_train.to_numpy()\n",
        "#convert the testing test\n",
        "x_test_np=x_test.to_numpy()\n",
        "y_test_np=y_test.to_numpy()\n"
      ],
      "execution_count": 0,
      "outputs": []
    },
    {
      "cell_type": "markdown",
      "metadata": {
        "id": "GSLZLzbacWS1",
        "colab_type": "text"
      },
      "source": [
        "Creating Network"
      ]
    },
    {
      "cell_type": "code",
      "metadata": {
        "id": "iPABe1EgcJi3",
        "colab_type": "code",
        "colab": {}
      },
      "source": [
        "import torch\n",
        "#import 1D convolution layer\n",
        "from torch.nn import Conv1d\n",
        "#import the max pooling layer\n",
        "from torch.nn import MaxPool1d\n",
        "#import flattern layer\n",
        "from torch.nn import Flatten\n",
        "#import linear layer\n",
        "from torch.nn import Linear\n",
        "#import relu activation function\n",
        "from torch.nn.functional import relu\n",
        "#import DataLoader, TensorDataset lib from pytorch to work with our dataset\n",
        "from torch.utils.data import DataLoader, TensorDataset"
      ],
      "execution_count": 0,
      "outputs": []
    },
    {
      "cell_type": "markdown",
      "metadata": {
        "id": "ZJlMEJB3cpLy",
        "colab_type": "text"
      },
      "source": [
        "Defining our Model"
      ]
    },
    {
      "cell_type": "code",
      "metadata": {
        "id": "Yb-EhNT3csNc",
        "colab_type": "code",
        "colab": {}
      },
      "source": [
        "#our class must be a class of torch.nn.Module\n",
        "class CnnRegressor(torch.nn.Module):\n",
        "  #Define intialization method\n",
        "  def __init__(self,batch_size,inputs,outputs):\n",
        "    #initalize the superclas and store the parameters\n",
        "    super(CnnRegressor,self).__init__()\n",
        "    self.batch_size=batch_size\n",
        "    self.inputs=inputs\n",
        "    self.outputs=outputs\n",
        "    #define input layer\n",
        "    #(input channel,output channel,kernel size)\n",
        "    self.input_layer=Conv1d(inputs,batch_size,1)\n",
        "    self.max_pooling_layer=MaxPool1d(1)\n",
        "    self.conv_layer=Conv1d(batch_size,128,1)\n",
        "    self.flattern_layer=Flatten()\n",
        "\n",
        "    self.linear_layer=Linear(128,64)\n",
        "    #Finally,define the output layer\n",
        "    self.output_layer=Linear(64,outputs)\n",
        "  #Define a method to feed inputs through the model\n",
        "  def feed(self,input):\n",
        "    #Reshape the entry so it can be fed to the input layer\n",
        "    input=input.reshape((self.batch_size,self.inputs,1))\n",
        "  \n",
        "    #Get the output of the frst layer at pass it to relu function\n",
        "    output=relu(self.input_layer(input))\n",
        "    output=self.max_pooling_layer(output)\n",
        "    output=relu(self.conv_layer(output))\n",
        "    output=self.flattern_layer(output)\n",
        "    output=self.linear_layer(output)\n",
        "    output=self.output_layer(output)\n",
        "    return output    "
      ],
      "execution_count": 0,
      "outputs": []
    },
    {
      "cell_type": "markdown",
      "metadata": {
        "id": "O3TalYVmp8Mo",
        "colab_type": "text"
      },
      "source": [
        "Training the Model(importing optimizer and performance measure)"
      ]
    },
    {
      "cell_type": "code",
      "metadata": {
        "id": "TBlUYsVbp-yq",
        "colab_type": "code",
        "outputId": "f305d893-4934-441a-ee2e-3636fc22cd24",
        "colab": {
          "base_uri": "https://localhost:8080/",
          "height": 139
        }
      },
      "source": [
        "#Traning the mdel\n",
        "#import RMSProp from pytorch for our optimizer\n",
        "from torch.optim import RMSprop \n",
        "\n",
        "from torch.nn import L1Loss\n",
        "#import the r^2 score package from pytorch ignite for our score measure\n",
        "!pip install pytorch-ignite\n",
        "from ignite.contrib.metrics.regression.r2_score import R2Score"
      ],
      "execution_count": 0,
      "outputs": [
        {
          "output_type": "stream",
          "text": [
            "Collecting pytorch-ignite\n",
            "\u001b[?25l  Downloading https://files.pythonhosted.org/packages/35/55/41e8a995876fd2ade29bdba0c3efefa38e7d605cb353c70f3173c04928b5/pytorch_ignite-0.3.0-py2.py3-none-any.whl (103kB)\n",
            "\r\u001b[K     |███▏                            | 10kB 29.4MB/s eta 0:00:01\r\u001b[K     |██████▎                         | 20kB 6.2MB/s eta 0:00:01\r\u001b[K     |█████████▌                      | 30kB 8.9MB/s eta 0:00:01\r\u001b[K     |████████████▋                   | 40kB 5.8MB/s eta 0:00:01\r\u001b[K     |███████████████▉                | 51kB 7.1MB/s eta 0:00:01\r\u001b[K     |███████████████████             | 61kB 8.3MB/s eta 0:00:01\r\u001b[K     |██████████████████████▏         | 71kB 9.6MB/s eta 0:00:01\r\u001b[K     |█████████████████████████▎      | 81kB 10.7MB/s eta 0:00:01\r\u001b[K     |████████████████████████████▍   | 92kB 11.8MB/s eta 0:00:01\r\u001b[K     |███████████████████████████████▋| 102kB 9.5MB/s eta 0:00:01\r\u001b[K     |████████████████████████████████| 112kB 9.5MB/s \n",
            "\u001b[?25hRequirement already satisfied: torch in /usr/local/lib/python3.6/dist-packages (from pytorch-ignite) (1.4.0)\n",
            "Installing collected packages: pytorch-ignite\n",
            "Successfully installed pytorch-ignite-0.3.0\n"
          ],
          "name": "stdout"
        }
      ]
    },
    {
      "cell_type": "markdown",
      "metadata": {
        "id": "ezdorQ10qWX6",
        "colab_type": "text"
      },
      "source": [
        "Defining our Model"
      ]
    },
    {
      "cell_type": "code",
      "metadata": {
        "id": "XjsueJbEqYzM",
        "colab_type": "code",
        "outputId": "75da5525-0314-4d04-d08b-aac926b41c4d",
        "colab": {
          "base_uri": "https://localhost:8080/",
          "height": 153
        }
      },
      "source": [
        "#lets define our model\n",
        "batch_size=64\n",
        "#(batchsize, xcol,ycol)\n",
        "model=CnnRegressor(batch_size,x.shape[1],1)\n",
        "#set the mdoel to use GPU fro processing\n",
        "model.cuda()"
      ],
      "execution_count": 0,
      "outputs": [
        {
          "output_type": "execute_result",
          "data": {
            "text/plain": [
              "CnnRegressor(\n",
              "  (input_layer): Conv1d(8, 64, kernel_size=(1,), stride=(1,))\n",
              "  (max_pooling_layer): MaxPool1d(kernel_size=1, stride=1, padding=0, dilation=1, ceil_mode=False)\n",
              "  (conv_layer): Conv1d(64, 128, kernel_size=(1,), stride=(1,))\n",
              "  (flattern_layer): Flatten()\n",
              "  (linear_layer): Linear(in_features=128, out_features=64, bias=True)\n",
              "  (output_layer): Linear(in_features=64, out_features=1, bias=True)\n",
              ")"
            ]
          },
          "metadata": {
            "tags": []
          },
          "execution_count": 10
        }
      ]
    },
    {
      "cell_type": "markdown",
      "metadata": {
        "id": "PUQQSNLrqu_3",
        "colab_type": "text"
      },
      "source": [
        "Creating a method for running batches of data through our model"
      ]
    },
    {
      "cell_type": "code",
      "metadata": {
        "id": "TKFXGHG3q3ra",
        "colab_type": "code",
        "colab": {}
      },
      "source": [
        "#This method will return the average L1 loss and R^2 score \n",
        "def model_loss(model,dataset,train=False,optimizer=None):\n",
        "  performance=L1Loss()\n",
        "  score_metric=R2Score()\n",
        "  avg_loss=0\n",
        "  avg_score=0\n",
        "  count=0\n",
        "  for input,output in iter(dataset):\n",
        "    predictions=model.feed(input)\n",
        "    loss=performance(predictions,output)\n",
        "    score_metric.update([predictions,output])\n",
        "    score=score_metric.compute()\n",
        "\n",
        "    if(train):\n",
        "      optimizer.zero_grad()\n",
        "      loss.backward()\n",
        "      optimizer.step()\n",
        "    avg_loss+=loss.item()\n",
        "    avg_score+=score\n",
        "    count+=1\n",
        "  return avg_loss/count, avg_score/count"
      ],
      "execution_count": 0,
      "outputs": []
    },
    {
      "cell_type": "markdown",
      "metadata": {
        "id": "FSDdNR66rGNK",
        "colab_type": "text"
      },
      "source": [
        "Training the model"
      ]
    },
    {
      "cell_type": "code",
      "metadata": {
        "id": "gyIlSH6rrJv4",
        "colab_type": "code",
        "outputId": "115df692-f8a0-48e4-a994-228764e4846f",
        "colab": {
          "base_uri": "https://localhost:8080/",
          "height": 1000
        }
      },
      "source": [
        "epochs=100\n",
        "optimizer=RMSprop(model.parameters(), lr=1e-3)\n",
        "inputs=torch.from_numpy(x_train_np).cuda().float()\n",
        "outputs=torch.from_numpy(y_train_np.reshape(y_train_np.shape[0],1)).cuda().float()\n",
        "\n",
        "\n",
        "tensor=TensorDataset(inputs,outputs)\n",
        "loader=DataLoader(tensor,batch_size,shuffle=True,drop_last=True)\n",
        "\n",
        "#start the training loop\n",
        "for epoch in range(epochs):\n",
        "  avg_loss, avg_r2_score=model_loss(model,loader,train=True,optimizer=optimizer)\n",
        "  print(\"Epoch\"+str(epoch +1)+ \":\\n\\tLoss=\" +str(avg_loss) + \"\\n\\tR^2 Score=\" +str(avg_r2_score))\n"
      ],
      "execution_count": 0,
      "outputs": [
        {
          "output_type": "stream",
          "text": [
            "Epoch1:\n",
            "\tLoss=115672.74691704036\n",
            "\tR^2 Score=-1.2812248969155084\n",
            "Epoch2:\n",
            "\tLoss=90750.27902536435\n",
            "\tR^2 Score=-0.3626285714747453\n",
            "Epoch3:\n",
            "\tLoss=81328.71684066704\n",
            "\tR^2 Score=0.13418449204972058\n",
            "Epoch4:\n",
            "\tLoss=79558.3301919843\n",
            "\tR^2 Score=0.20922488443683712\n",
            "Epoch5:\n",
            "\tLoss=78194.55647421525\n",
            "\tR^2 Score=0.21575647305326381\n",
            "Epoch6:\n",
            "\tLoss=76627.67709501121\n",
            "\tR^2 Score=0.24948537421610997\n",
            "Epoch7:\n",
            "\tLoss=74808.59105241031\n",
            "\tR^2 Score=0.2922614815152288\n",
            "Epoch8:\n",
            "\tLoss=72815.27282441144\n",
            "\tR^2 Score=0.33938624368247244\n",
            "Epoch9:\n",
            "\tLoss=71204.26189391816\n",
            "\tR^2 Score=0.3489756340580797\n",
            "Epoch10:\n",
            "\tLoss=69473.4394443666\n",
            "\tR^2 Score=0.3860004130252787\n",
            "Epoch11:\n",
            "\tLoss=68293.95408842489\n",
            "\tR^2 Score=0.4033368316481117\n",
            "Epoch12:\n",
            "\tLoss=67368.82146860987\n",
            "\tR^2 Score=0.41089995990198\n",
            "Epoch13:\n",
            "\tLoss=66148.90942054373\n",
            "\tR^2 Score=0.4272134392397307\n",
            "Epoch14:\n",
            "\tLoss=65628.14899803812\n",
            "\tR^2 Score=0.44015264560090894\n",
            "Epoch15:\n",
            "\tLoss=64758.079824131164\n",
            "\tR^2 Score=0.44927928438354525\n",
            "Epoch16:\n",
            "\tLoss=64224.905356642375\n",
            "\tR^2 Score=0.4347263562855194\n",
            "Epoch17:\n",
            "\tLoss=63707.01832258968\n",
            "\tR^2 Score=0.4578583462324898\n",
            "Epoch18:\n",
            "\tLoss=63101.69930633408\n",
            "\tR^2 Score=0.45774357760227846\n",
            "Epoch19:\n",
            "\tLoss=62687.310082679374\n",
            "\tR^2 Score=0.48163958729028916\n",
            "Epoch20:\n",
            "\tLoss=62029.99260790359\n",
            "\tR^2 Score=0.4771731250202738\n",
            "Epoch21:\n",
            "\tLoss=61988.52084501121\n",
            "\tR^2 Score=0.465743313465945\n",
            "Epoch22:\n",
            "\tLoss=61113.68161434978\n",
            "\tR^2 Score=0.4929142626619308\n",
            "Epoch23:\n",
            "\tLoss=61067.74994744955\n",
            "\tR^2 Score=0.48317439860385464\n",
            "Epoch24:\n",
            "\tLoss=60686.071205857625\n",
            "\tR^2 Score=0.4955897524540045\n",
            "Epoch25:\n",
            "\tLoss=60196.65153797646\n",
            "\tR^2 Score=0.5131968680725427\n",
            "Epoch26:\n",
            "\tLoss=59917.689584501124\n",
            "\tR^2 Score=0.5183340157616145\n",
            "Epoch27:\n",
            "\tLoss=59931.284805913674\n",
            "\tR^2 Score=0.5057558196261013\n",
            "Epoch28:\n",
            "\tLoss=59578.449183716366\n",
            "\tR^2 Score=0.517151831329002\n",
            "Epoch29:\n",
            "\tLoss=58942.340596973096\n",
            "\tR^2 Score=0.5071390049735468\n",
            "Epoch30:\n",
            "\tLoss=58842.357623318385\n",
            "\tR^2 Score=0.5205557295149329\n",
            "Epoch31:\n",
            "\tLoss=58531.85466297646\n",
            "\tR^2 Score=0.5337994628219784\n",
            "Epoch32:\n",
            "\tLoss=58316.74257286995\n",
            "\tR^2 Score=0.5264147495163746\n",
            "Epoch33:\n",
            "\tLoss=58320.011018077355\n",
            "\tR^2 Score=0.523621250361803\n",
            "Epoch34:\n",
            "\tLoss=57823.063200672645\n",
            "\tR^2 Score=0.5287990668851706\n",
            "Epoch35:\n",
            "\tLoss=57870.35870936099\n",
            "\tR^2 Score=0.5201974711170515\n",
            "Epoch36:\n",
            "\tLoss=57253.91611196749\n",
            "\tR^2 Score=0.5407239330809518\n",
            "Epoch37:\n",
            "\tLoss=57308.209448570626\n",
            "\tR^2 Score=0.5403609330723438\n",
            "Epoch38:\n",
            "\tLoss=56785.24823080157\n",
            "\tR^2 Score=0.5535430085710731\n",
            "Epoch39:\n",
            "\tLoss=56781.63864559978\n",
            "\tR^2 Score=0.544031017089336\n",
            "Epoch40:\n",
            "\tLoss=56795.63382847534\n",
            "\tR^2 Score=0.5480860816451135\n",
            "Epoch41:\n",
            "\tLoss=56923.35163256727\n",
            "\tR^2 Score=0.5488754796439914\n",
            "Epoch42:\n",
            "\tLoss=56350.94893848094\n",
            "\tR^2 Score=0.5625564909720461\n",
            "Epoch43:\n",
            "\tLoss=56526.127084501124\n",
            "\tR^2 Score=0.5422742544612742\n",
            "Epoch44:\n",
            "\tLoss=56471.245130325115\n",
            "\tR^2 Score=0.560129298666562\n",
            "Epoch45:\n",
            "\tLoss=56227.21340737108\n",
            "\tR^2 Score=0.541075357076665\n",
            "Epoch46:\n",
            "\tLoss=56165.67875910874\n",
            "\tR^2 Score=0.5586169344824565\n",
            "Epoch47:\n",
            "\tLoss=55914.42658702354\n",
            "\tR^2 Score=0.5544752175991934\n",
            "Epoch48:\n",
            "\tLoss=55570.86249299327\n",
            "\tR^2 Score=0.5774500629172311\n",
            "Epoch49:\n",
            "\tLoss=55805.973286855384\n",
            "\tR^2 Score=0.5439038399900568\n",
            "Epoch50:\n",
            "\tLoss=55482.90831698431\n",
            "\tR^2 Score=0.5658840844486519\n",
            "Epoch51:\n",
            "\tLoss=55672.317702494394\n",
            "\tR^2 Score=0.5558500901163216\n",
            "Epoch52:\n",
            "\tLoss=55506.10115961323\n",
            "\tR^2 Score=0.5766242568339348\n",
            "Epoch53:\n",
            "\tLoss=55324.03524383408\n",
            "\tR^2 Score=0.5610448182001858\n",
            "Epoch54:\n",
            "\tLoss=55010.665411294845\n",
            "\tR^2 Score=0.5717174920695283\n",
            "Epoch55:\n",
            "\tLoss=55178.15313200673\n",
            "\tR^2 Score=0.5730374896017424\n",
            "Epoch56:\n",
            "\tLoss=54707.570820487665\n",
            "\tR^2 Score=0.5891257811865049\n",
            "Epoch57:\n",
            "\tLoss=54947.195662836326\n",
            "\tR^2 Score=0.5738601879797507\n",
            "Epoch58:\n",
            "\tLoss=54842.67991521861\n",
            "\tR^2 Score=0.575519984214299\n",
            "Epoch59:\n",
            "\tLoss=54735.11224775785\n",
            "\tR^2 Score=0.5736125099239652\n",
            "Epoch60:\n",
            "\tLoss=54480.562009529145\n",
            "\tR^2 Score=0.5888025496060688\n",
            "Epoch61:\n",
            "\tLoss=54373.54489559978\n",
            "\tR^2 Score=0.5802476384180746\n",
            "Epoch62:\n",
            "\tLoss=54049.54664728139\n",
            "\tR^2 Score=0.5836869255464107\n",
            "Epoch63:\n",
            "\tLoss=53701.8283352018\n",
            "\tR^2 Score=0.5882839491019873\n",
            "Epoch64:\n",
            "\tLoss=54324.31146650785\n",
            "\tR^2 Score=0.5705278819412466\n",
            "Epoch65:\n",
            "\tLoss=53689.570067264576\n",
            "\tR^2 Score=0.5956448865966886\n",
            "Epoch66:\n",
            "\tLoss=53941.55190232623\n",
            "\tR^2 Score=0.597898699421793\n",
            "Epoch67:\n",
            "\tLoss=53598.62617362668\n",
            "\tR^2 Score=0.5944529100395589\n",
            "Epoch68:\n",
            "\tLoss=53594.00581558296\n",
            "\tR^2 Score=0.5963047441088467\n",
            "Epoch69:\n",
            "\tLoss=53823.34171804933\n",
            "\tR^2 Score=0.595268477480229\n",
            "Epoch70:\n",
            "\tLoss=53201.98726527466\n",
            "\tR^2 Score=0.6094258213818802\n",
            "Epoch71:\n",
            "\tLoss=53818.96978349215\n",
            "\tR^2 Score=0.5876760916694105\n",
            "Epoch72:\n",
            "\tLoss=53460.87466718049\n",
            "\tR^2 Score=0.5976180544466865\n",
            "Epoch73:\n",
            "\tLoss=53512.31992713005\n",
            "\tR^2 Score=0.5967237463597337\n",
            "Epoch74:\n",
            "\tLoss=53069.56221973094\n",
            "\tR^2 Score=0.6065207976155237\n",
            "Epoch75:\n",
            "\tLoss=53590.2545543722\n",
            "\tR^2 Score=0.5893698276445954\n",
            "Epoch76:\n",
            "\tLoss=53247.16180283072\n",
            "\tR^2 Score=0.6029001279471812\n",
            "Epoch77:\n",
            "\tLoss=53020.069962163674\n",
            "\tR^2 Score=0.6156624241668542\n",
            "Epoch78:\n",
            "\tLoss=53386.80198991032\n",
            "\tR^2 Score=0.6065449305093951\n",
            "Epoch79:\n",
            "\tLoss=53350.662310818385\n",
            "\tR^2 Score=0.5966627671545458\n",
            "Epoch80:\n",
            "\tLoss=52785.72701793722\n",
            "\tR^2 Score=0.6094706897111598\n",
            "Epoch81:\n",
            "\tLoss=52887.181211463\n",
            "\tR^2 Score=0.5992656051227654\n",
            "Epoch82:\n",
            "\tLoss=52408.31525889854\n",
            "\tR^2 Score=0.6116462156618191\n",
            "Epoch83:\n",
            "\tLoss=53136.47013382847\n",
            "\tR^2 Score=0.6027671279343482\n",
            "Epoch84:\n",
            "\tLoss=52509.23673977018\n",
            "\tR^2 Score=0.6092449075598027\n",
            "Epoch85:\n",
            "\tLoss=52519.145091788116\n",
            "\tR^2 Score=0.6104401405729911\n",
            "Epoch86:\n",
            "\tLoss=52697.947116732066\n",
            "\tR^2 Score=0.6116547078731752\n",
            "Epoch87:\n",
            "\tLoss=52313.05854119955\n",
            "\tR^2 Score=0.6173328881386195\n",
            "Epoch88:\n",
            "\tLoss=52798.099355381164\n",
            "\tR^2 Score=0.6070022753556811\n",
            "Epoch89:\n",
            "\tLoss=52471.73278096973\n",
            "\tR^2 Score=0.6150679361134909\n",
            "Epoch90:\n",
            "\tLoss=51894.02806193946\n",
            "\tR^2 Score=0.6205243380951497\n",
            "Epoch91:\n",
            "\tLoss=52320.11678461323\n",
            "\tR^2 Score=0.6240730017470826\n",
            "Epoch92:\n",
            "\tLoss=51896.79706768498\n",
            "\tR^2 Score=0.6171219335715467\n",
            "Epoch93:\n",
            "\tLoss=52049.44377102018\n",
            "\tR^2 Score=0.6178933958614683\n",
            "Epoch94:\n",
            "\tLoss=52321.13212934417\n",
            "\tR^2 Score=0.6072655213100836\n",
            "Epoch95:\n",
            "\tLoss=51965.532406109865\n",
            "\tR^2 Score=0.6121680625373845\n",
            "Epoch96:\n",
            "\tLoss=52153.7661680213\n",
            "\tR^2 Score=0.6138224278105556\n",
            "Epoch97:\n",
            "\tLoss=51860.85019618834\n",
            "\tR^2 Score=0.6031230125640348\n",
            "Epoch98:\n",
            "\tLoss=51911.986477017934\n",
            "\tR^2 Score=0.6272804836474187\n",
            "Epoch99:\n",
            "\tLoss=51833.80742012332\n",
            "\tR^2 Score=0.6114803834065876\n",
            "Epoch100:\n",
            "\tLoss=51867.499439461884\n",
            "\tR^2 Score=0.601964509713477\n"
          ],
          "name": "stdout"
        }
      ]
    },
    {
      "cell_type": "code",
      "metadata": {
        "id": "WMpkL7-JrcjX",
        "colab_type": "code",
        "outputId": "d58c17e4-90f4-402e-f333-5e5fbe82f763",
        "colab": {
          "base_uri": "https://localhost:8080/",
          "height": 51
        }
      },
      "source": [
        "#finally we will test model to see how it performs on testing dataset\n",
        "inputs=torch.from_numpy(x_test_np).cuda().float()\n",
        "outputs=torch.from_numpy(y_test_np.reshape(y_test_np.shape[0],1)).cuda().float()\n",
        "\n",
        "tensor=TensorDataset(inputs,outputs)\n",
        "loader=DataLoader(tensor,batch_size,shuffle=True,drop_last=True)\n",
        "\n",
        "avg_loss, avg_r2_score=model_loss(model,loader)\n",
        "print(\"the mode's l1 loss is:\"+str(avg_loss))\n",
        "print(\"the model's R^2 score is:\" +str(avg_r2_score))\n"
      ],
      "execution_count": 0,
      "outputs": [
        {
          "output_type": "stream",
          "text": [
            "the mode's l1 loss is:50733.45518092105\n",
            "the model's R^2 score is:0.6165311234605623\n"
          ],
          "name": "stdout"
        }
      ]
    }
  ]
}